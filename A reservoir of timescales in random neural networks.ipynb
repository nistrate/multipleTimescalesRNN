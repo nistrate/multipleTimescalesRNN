{
 "cells": [
  {
   "cell_type": "code",
   "execution_count": 1,
   "id": "8c8fb63a",
   "metadata": {},
   "outputs": [],
   "source": [
    "import numpy as np\n",
    "import tensorflow_probability as tfp\n",
    "from scipy.integrate import odeint\n",
    "\n",
    "from rnn_library import rnn_functions as rnn # importing local package as rnn\n",
    "                                             # for details see rnn_functions.py file in rnn_libary folder \n",
    "\n",
    "import matplotlib.pyplot as plt"
   ]
  },
  {
   "cell_type": "code",
   "execution_count": 7,
   "id": "5b880ebd",
   "metadata": {},
   "outputs": [],
   "source": [
    "def NL_DifEq(x,t):\n",
    "    \"\"\"\n",
    "    NL_DifEq specifies the set of ODE's that need to be solved.\n",
    "    Applied within odeint. For more details look into scipy.integrate.odeint\n",
    "\n",
    "    Requierements:\n",
    "    \n",
    "    x         -   initial value satisfied by Initial_Condition.\n",
    "    t         -   timeline satsfied by \n",
    "    \n",
    "    Output:\n",
    "    \n",
    "    dxdt     -   the change in the dynamic network variable x\n",
    "    \"\"\"\n",
    "    \n",
    "    dxdt = - x + J_Matrix @ np.tanh(x) \n",
    "    \n",
    "    return dxdt"
   ]
  },
  {
   "cell_type": "code",
   "execution_count": 8,
   "id": "bcc7bb26",
   "metadata": {},
   "outputs": [
    {
     "name": "stdout",
     "output_type": "stream",
     "text": [
      "Specify the value of the gain parameter, g.\n",
      "2.0\n",
      "\tEntry accepted\n",
      "Specify the number of distinct self-couplings.\n",
      "2\n",
      "\tEntry accepted\n",
      "Population 0:\n",
      " s0 =\n",
      "1.0\n",
      "\tEntry accepted\n",
      "Population 0:\n",
      " N0 =\n",
      "800\n",
      "\tEntry accepted\n",
      "Population 1:\n",
      " s1 =\n",
      "3.0\n",
      "\tEntry accepted\n",
      "Population 1:\n",
      " N1 =\n",
      "200\n",
      "\tEntry accepted\n"
     ]
    }
   ],
   "source": [
    "'''\n",
    "In this cell we ask the user to specify \n",
    "the network parameters:\n",
    "g, K, N_values, s_values\n",
    "'''\n",
    "\n",
    "print('Specify the value of the gain parameter, g.')\n",
    "g = rnn.ask_user_float() # stores the value of the gain parameter in the network; datatype float\n",
    "\n",
    "print('Specify the number of distinct self-couplings.')\n",
    "K = rnn.ask_user_integer() # stores the total number of distinct clusters; datatype positive int \n",
    "\n",
    "N_values = np.zeros(K) # create memory space; stores number of clusters for each population\n",
    "s_values = np.zeros(K) # create memory space; stores values of self-coupling each cluster population\n",
    "\n",
    "for idx in range(K):\n",
    "    \n",
    "    print(f'Population {idx}:\\n s{idx} =',)\n",
    "    s_values[idx] = rnn.ask_user_float() # stores the self_coupling value for cluster idx\n",
    "    \n",
    "    print(f'Population {idx}:\\n N{idx} =',)\n",
    "    N_values[idx] = rnn.ask_user_integer() # stores number of cluster with self_coupling s_value[idx]\n",
    "    \n",
    "N = int(N_values.sum()) # stores total number of clusters in the network"
   ]
  },
  {
   "cell_type": "code",
   "execution_count": 9,
   "id": "e9522df3",
   "metadata": {},
   "outputs": [],
   "source": [
    "# Specifying the timeline for solving the coupled ODEs\n",
    "\n",
    "t_end = 1000.0                        # end of time  \n",
    "dt = 0.1                              # timestep\n",
    "timeline = np.arange(0, t_end, dt)    # stores time values t0 = 0, t1= 0.1, ....\n",
    "\n",
    "# Specifying the timeline for the autocorrelation funcion (ACF)\n",
    "\n",
    "steps_ignore = 500                             # minimum value 1 (see how the ACF is computed)\n",
    "Tau_Steps = int((t_end*(1/dt)-steps_ignore))   # total number of steps for the ACF timeline\n",
    "tau_timeline = np.arange(0,Tau_Steps,1.0)*dt   # stores time values t0 = 0, t1= 0.1, ....\n",
    "\n",
    "# Specifying the network connectivity matrix J\n",
    "\n",
    "# J is extracted from a normal distribution with mean 0 and variance g/sqrt(N)\n",
    "\n",
    "mean  = 0.0                                          # mean of the distribution\n",
    "variance  = g/np.sqrt(N)                             # variance of teh distribution\n",
    "J_Matrix = variance * np.random.randn(N**2) + mean   # returns an array of size N*N\n",
    "J_Matrix = J_Matrix.reshape(N,N)                     # reshaping the array into a NxN matrix\n",
    "\n",
    "# Specifying the diagonal elements of the J matrix\n",
    "\n",
    "diagonal = np.ones(N)\n",
    "temp_pos_var = 0 # not an elegant solution, but it works\n",
    "for idx in range(K):\n",
    "    range_start = int(temp_pos_var)\n",
    "    range_end = int(temp_pos_var+N_values[idx])\n",
    "    \n",
    "    diagonal[range_start:range_end] = diagonal[range_start:range_end]* s_values[idx]\n",
    "    \n",
    "    temp_pos_var = N_values[idx]\n",
    "    \n",
    "for cluster in range(N):\n",
    "    J_Matrix[cluster][cluster] = diagonal[cluster]\n",
    "\n",
    "# Specifying the initial conditions x(t = 0)\n",
    "Initial_Condition = np.random.uniform(-2,2, N) # N size array from uniform distr. ranging from -2 to 2"
   ]
  },
  {
   "cell_type": "code",
   "execution_count": 10,
   "id": "8bfdbb1f",
   "metadata": {},
   "outputs": [
    {
     "name": "stderr",
     "output_type": "stream",
     "text": [
      "2022-02-23 15:56:38.744312: W tensorflow/stream_executor/platform/default/dso_loader.cc:64] Could not load dynamic library 'libcudart.so.11.0'; dlerror: libcudart.so.11.0: cannot open shared object file: No such file or directory\n",
      "2022-02-23 15:56:38.744332: I tensorflow/stream_executor/cuda/cudart_stub.cc:29] Ignore above cudart dlerror if you do not have a GPU set up on your machine.\n",
      "2022-02-23 15:56:40.561619: W tensorflow/stream_executor/platform/default/dso_loader.cc:64] Could not load dynamic library 'libcuda.so.1'; dlerror: libcuda.so.1: cannot open shared object file: No such file or directory\n",
      "2022-02-23 15:56:40.561642: W tensorflow/stream_executor/cuda/cuda_driver.cc:269] failed call to cuInit: UNKNOWN ERROR (303)\n",
      "2022-02-23 15:56:40.561660: I tensorflow/stream_executor/cuda/cuda_diagnostics.cc:156] kernel driver does not appear to be running on this host (CommandCenter): /proc/driver/nvidia/version does not exist\n",
      "2022-02-23 15:56:40.562035: I tensorflow/core/platform/cpu_feature_guard.cc:151] This TensorFlow binary is optimized with oneAPI Deep Neural Network Library (oneDNN) to use the following CPU instructions in performance-critical operations:  AVX2 FMA\n",
      "To enable them in other operations, rebuild TensorFlow with the appropriate compiler flags.\n"
     ]
    }
   ],
   "source": [
    "# Solving the system of coupled ODE with the specified parameters\n",
    "\n",
    "x = odeint(NL_DifEq, Initial_Condition, timeline).T\n",
    "\n",
    "# Solving for the ACF < phi[x(t)] phi[x(t+tau)] > ; phi[x] = tanh[x]\n",
    "\n",
    "C_phi   = tfp.stats.auto_correlation(np.tanh(x[:,steps_ignore:]), axis =-1, max_lags = Tau_Steps, center = False, normalize = True)\n",
    "\n",
    "# Averaging the ACF per cluster population\n",
    "C_phi_avg = []\n",
    "\n",
    "temp_pos_var = 0 # not an elegant solution, but it works\n",
    "for idx in range(K):\n",
    "    range_start = int(temp_pos_var)\n",
    "    range_end = int(temp_pos_var+N_values[idx])\n",
    "    \n",
    "    C_phi_avg.append(np.mean( C_phi[range_start:range_end] , axis = 0))\n",
    "    \n",
    "    temp_pos_var = N_values[idx]"
   ]
  },
  {
   "cell_type": "code",
   "execution_count": 15,
   "id": "88567016",
   "metadata": {},
   "outputs": [
    {
     "data": {
      "image/png": "[encoded data removed]",
      "text/plain": [
       "<Figure size 432x288 with 1 Axes>"
      ]
     },
     "metadata": {
      "needs_background": "light"
     },
     "output_type": "display_data"
    },
    {
     "name": "stdout",
     "output_type": "stream",
     "text": [
      "network timescales: [ 9.78 21.34]\n"
     ]
    }
   ],
   "source": [
    "timescales = []\n",
    "for idx in range(K):\n",
    "    timescales.append(rnn.FWHM_funct(tau_timeline , C_phi_avg[idx]))\n",
    "    \n",
    "    \n",
    "plt.figure()\n",
    "\n",
    "for idx in range(K):\n",
    "    plt.plot(tau_timeline, C_phi_avg[idx], label = f's = {s_values[idx]}')\n",
    "    \n",
    "plt.xlim(0,500)\n",
    "plt.legend()\n",
    "plt.show()\n",
    "    \n",
    "print(f'network timescales: {np.round(timescales,2)}')"
   ]
  },
  {
   "cell_type": "code",
   "execution_count": null,
   "id": "2c5aba49",
   "metadata": {},
   "outputs": [],
   "source": []
  }
 ],
 "metadata": {
  "kernelspec": {
   "display_name": "Python 3 (ipykernel)",
   "language": "python",
   "name": "python3"
  },
  "language_info": {
   "codemirror_mode": {
    "name": "ipython",
    "version": 3
   },
   "file_extension": ".py",
   "mimetype": "text/x-python",
   "name": "python",
   "nbconvert_exporter": "python",
   "pygments_lexer": "ipython3",
   "version": "3.8.10"
  }
 },
 "nbformat": 4,
 "nbformat_minor": 5
}
